{
 "cells": [
  {
   "cell_type": "code",
   "execution_count": 1,
   "id": "26e225c1-560c-4f82-9110-68eae884d306",
   "metadata": {},
   "outputs": [
    {
     "name": "stdout",
     "output_type": "stream",
     "text": [
      "Rany\n"
     ]
    }
   ],
   "source": [
    "name = \"Rany\"\n",
    "print(name)"
   ]
  },
  {
   "cell_type": "code",
   "execution_count": 2,
   "id": "8b318ede-08e2-4cde-943c-f21fa9019500",
   "metadata": {},
   "outputs": [
    {
     "name": "stdout",
     "output_type": "stream",
     "text": [
      "9\n"
     ]
    }
   ],
   "source": [
    "num1= 5\n",
    "num2= 4\n",
    "print (num1 + num2)"
   ]
  },
  {
   "cell_type": "code",
   "execution_count": 3,
   "id": "d5afb676-0ff8-4e07-8318-662112e24a37",
   "metadata": {},
   "outputs": [
    {
     "name": "stdout",
     "output_type": "stream",
     "text": [
      "True\n"
     ]
    }
   ],
   "source": [
    "is_raining = True\n",
    "print(is_raining)"
   ]
  },
  {
   "cell_type": "code",
   "execution_count": 4,
   "id": "d11ca2dc-9fc8-499f-bf41-e7933b792e62",
   "metadata": {},
   "outputs": [
    {
     "name": "stdout",
     "output_type": "stream",
     "text": [
      " their favorite number is: 10\n"
     ]
    }
   ],
   "source": [
    "fav_number = 10\n",
    "print(\" their favorite number is:\", fav_number)\n"
   ]
  },
  {
   "cell_type": "code",
   "execution_count": 5,
   "id": "4835963f-d322-483a-b8b2-cf25a9991634",
   "metadata": {},
   "outputs": [
    {
     "name": "stdout",
     "output_type": "stream",
     "text": [
      "100 <class 'int'>\n"
     ]
    }
   ],
   "source": [
    "string = \"100\"\n",
    "integer = int(string)\n",
    "print(string, type(integer))"
   ]
  },
  {
   "cell_type": "code",
   "execution_count": 6,
   "id": "ea59150d-c3cc-4d9d-a176-4c8806cd32fb",
   "metadata": {},
   "outputs": [
    {
     "name": "stdout",
     "output_type": "stream",
     "text": [
      "9\n"
     ]
    }
   ],
   "source": [
    "price = 9.99\n",
    "print(int(price))  "
   ]
  },
  {
   "cell_type": "code",
   "execution_count": 7,
   "id": "174a9697-111c-4079-b6b2-cc55efc573b4",
   "metadata": {},
   "outputs": [
    {
     "name": "stdout",
     "output_type": "stream",
     "text": [
      "This is line one, This is line two\n"
     ]
    }
   ],
   "source": [
    "multi =\"This is line one, This is line two\"\n",
    "print(multi)"
   ]
  },
  {
   "cell_type": "code",
   "execution_count": 8,
   "id": "08c3065d-1e3d-4624-9627-238e88a33b33",
   "metadata": {},
   "outputs": [
    {
     "name": "stdout",
     "output_type": "stream",
     "text": [
      "HelloHelloHelloHelloHello\n"
     ]
    }
   ],
   "source": [
    "print(\"Hello\"* 5)"
   ]
  },
  {
   "cell_type": "code",
   "execution_count": 9,
   "id": "7073a89e-d430-4cc6-b0aa-a75678b822be",
   "metadata": {},
   "outputs": [
    {
     "name": "stdout",
     "output_type": "stream",
     "text": [
      "My score is 95\n"
     ]
    }
   ],
   "source": [
    "score = 95\n",
    "message = \"My score is \" +str(score)\n",
    "print(message)"
   ]
  },
  {
   "cell_type": "code",
   "execution_count": 10,
   "id": "1d79ae4e-bfc2-4139-b3b5-d52ba7183906",
   "metadata": {},
   "outputs": [
    {
     "name": "stdout",
     "output_type": "stream",
     "text": [
      "True\n"
     ]
    }
   ],
   "source": [
    "print(\"apple\" in \"I have an apple and a banana\")"
   ]
  },
  {
   "cell_type": "code",
   "execution_count": 11,
   "id": "194e9840-55bf-4dc1-a47e-5db5ff076b16",
   "metadata": {},
   "outputs": [
    {
     "name": "stdout",
     "output_type": "stream",
     "text": [
      "78.5\n"
     ]
    }
   ],
   "source": [
    "r = 5\n",
    "area = 3.14 * r**2\n",
    "print(area)"
   ]
  },
  {
   "cell_type": "code",
   "execution_count": 12,
   "id": "38eed65f-aa2c-4894-bb6a-b90cd06dd438",
   "metadata": {},
   "outputs": [
    {
     "name": "stdout",
     "output_type": "stream",
     "text": [
      "False\n"
     ]
    }
   ],
   "source": [
    "print(17 % 2 == 0)"
   ]
  },
  {
   "cell_type": "code",
   "execution_count": 13,
   "id": "06da8f19-33f2-43fc-8cc1-0abe13da4a1a",
   "metadata": {},
   "outputs": [
    {
     "name": "stdout",
     "output_type": "stream",
     "text": [
      "15\n"
     ]
    }
   ],
   "source": [
    "x=5\n",
    "x +=10\n",
    "print(x)"
   ]
  },
  {
   "cell_type": "code",
   "execution_count": 14,
   "id": "0636d3f4-eff5-4301-affd-ac3313cb97b8",
   "metadata": {},
   "outputs": [
    {
     "name": "stdout",
     "output_type": "stream",
     "text": [
      "False\n"
     ]
    }
   ],
   "source": [
    "a=5\n",
    "b=7\n",
    "print(a > b)   "
   ]
  },
  {
   "cell_type": "code",
   "execution_count": 15,
   "id": "eac252de-c733-40ac-a0c0-620f86241a41",
   "metadata": {},
   "outputs": [
    {
     "name": "stdout",
     "output_type": "stream",
     "text": [
      "True\n"
     ]
    }
   ],
   "source": [
    "print(a < b)"
   ]
  },
  {
   "cell_type": "code",
   "execution_count": 16,
   "id": "5b0b1290-6319-43b3-ac1b-2928802e69a0",
   "metadata": {},
   "outputs": [
    {
     "name": "stdout",
     "output_type": "stream",
     "text": [
      "True\n"
     ]
    }
   ],
   "source": [
    "age = 18\n",
    "print(age >= 13 and age <= 19)"
   ]
  },
  {
   "cell_type": "code",
   "execution_count": 17,
   "id": "a684e63d-263b-40a1-a32e-b5545b8bab01",
   "metadata": {},
   "outputs": [
    {
     "name": "stdout",
     "output_type": "stream",
     "text": [
      "True\n"
     ]
    }
   ],
   "source": [
    "char = 'n'\n",
    "print(char == 'y' or char == 'n')"
   ]
  },
  {
   "cell_type": "code",
   "execution_count": 18,
   "id": "a0401d5b-abb7-4149-91de-892d6e5f140a",
   "metadata": {},
   "outputs": [
    {
     "name": "stdout",
     "output_type": "stream",
     "text": [
      "True\n"
     ]
    }
   ],
   "source": [
    "is_logged_in = False\n",
    "print(not is_logged_in)"
   ]
  },
  {
   "cell_type": "code",
   "execution_count": 19,
   "id": "d598a1d8-9b9b-456c-8e68-c4da4b227cd0",
   "metadata": {},
   "outputs": [
    {
     "name": "stdout",
     "output_type": "stream",
     "text": [
      "False\n"
     ]
    }
   ],
   "source": [
    "list_a = [1, 2, 3]\n",
    "list_b = [1, 2, 3]\n",
    "print(list_a is list_b)"
   ]
  },
  {
   "cell_type": "code",
   "execution_count": 20,
   "id": "1a7b9d6c-67b9-482b-be27-669feeccf76a",
   "metadata": {},
   "outputs": [
    {
     "name": "stdout",
     "output_type": "stream",
     "text": [
      "True\n"
     ]
    }
   ],
   "source": [
    "print(5 in [1, 2, 3, 4, 5])\n"
   ]
  },
  {
   "cell_type": "code",
   "execution_count": 21,
   "id": "f59a6f43-7e3c-489d-b27b-46173543650e",
   "metadata": {},
   "outputs": [
    {
     "name": "stdout",
     "output_type": "stream",
     "text": [
      "True\n"
     ]
    }
   ],
   "source": [
    "value = None\n",
    "print(value is None)"
   ]
  },
  {
   "cell_type": "code",
   "execution_count": 22,
   "id": "c5b00cf6-2d8e-4924-982d-4958ae9ae2be",
   "metadata": {},
   "outputs": [
    {
     "name": "stdout",
     "output_type": "stream",
     "text": [
      "Positive\n"
     ]
    }
   ],
   "source": [
    "num = 2\n",
    "if num > 0:\n",
    "    print(\"Positive\")\n"
   ]
  },
  {
   "cell_type": "code",
   "execution_count": 23,
   "id": "796fc962-db75-45ed-80ef-8261614c4ae6",
   "metadata": {},
   "outputs": [
    {
     "name": "stdout",
     "output_type": "stream",
     "text": [
      "even\n"
     ]
    }
   ],
   "source": [
    "num=6\n",
    "if num % 2==0:\n",
    "   print(\"even\")\n",
    "else:\n",
    "    print(\"odd\")"
   ]
  },
  {
   "cell_type": "code",
   "execution_count": 24,
   "id": "699db42a-a6a3-450a-9e95-8451db1023d3",
   "metadata": {},
   "outputs": [
    {
     "name": "stdout",
     "output_type": "stream",
     "text": [
      "E\n"
     ]
    }
   ],
   "source": [
    "grade = 70\n",
    "\n",
    "if grade < 50:\n",
    "    print(\"F\")\n",
    "elif grade >= 50 and grade <= 69:\n",
    "    print(\"C\")\n",
    "elif grade >= 70 and grade <= 89:\n",
    "    print(\"E\")\n",
    "elif grade >= 90:\n",
    "    print(\"A\")\n"
   ]
  },
  {
   "cell_type": "code",
   "execution_count": 25,
   "id": "ff6caf30-c319-4045-9d12-17a1e2c70e4a",
   "metadata": {},
   "outputs": [
    {
     "name": "stdout",
     "output_type": "stream",
     "text": [
      "apple\n",
      "banana\n",
      "cherry\n"
     ]
    }
   ],
   "source": [
    "for fruit in ['apple', 'banana', 'cherry']:\n",
    "    print(fruit)"
   ]
  },
  {
   "cell_type": "code",
   "execution_count": 26,
   "id": "d2dff77b-7617-4082-afd9-9e88b949d338",
   "metadata": {},
   "outputs": [
    {
     "name": "stdout",
     "output_type": "stream",
     "text": [
      "55\n"
     ]
    }
   ],
   "source": [
    " sum = 0\n",
    "for i in range(1, 11):\n",
    "    sum += i\n",
    "print(sum)"
   ]
  },
  {
   "cell_type": "code",
   "execution_count": 27,
   "id": "259ecec5-9b95-4836-b05e-4c052acb0c2c",
   "metadata": {},
   "outputs": [
    {
     "name": "stdout",
     "output_type": "stream",
     "text": [
      "5\n",
      "4\n",
      "3\n",
      "2\n",
      "1\n"
     ]
    }
   ],
   "source": [
    "n = 5\n",
    "while n > 0:\n",
    "    print(n)\n",
    "    n -= 1"
   ]
  },
  {
   "cell_type": "code",
   "execution_count": 28,
   "id": "522bc8f1-e900-49ca-b397-293acf314c64",
   "metadata": {},
   "outputs": [
    {
     "name": "stdin",
     "output_type": "stream",
     "text": [
      "Hello stop\n"
     ]
    },
    {
     "name": "stdout",
     "output_type": "stream",
     "text": [
      "Loop ended.\n"
     ]
    }
   ],
   "source": [
    "while True:\n",
    "    user_input = input(\"Hello\")\n",
    "    if user_input.lower() == \"stop\":\n",
    "        print(\"Loop ended.\")\n",
    "        break\n",
    "    print(\"You typed:\", user_input)\n"
   ]
  },
  {
   "cell_type": "code",
   "execution_count": 29,
   "id": "33305fed-ddc6-4c3a-a233-4c9db399cc33",
   "metadata": {},
   "outputs": [
    {
     "name": "stdout",
     "output_type": "stream",
     "text": [
      "# # # # \n",
      "# # # # \n",
      "# # # # \n",
      "# # # # \n"
     ]
    }
   ],
   "source": [
    "for i in range(4):\n",
    "    for j in range(4):\n",
    "        print(\"#\", end=\" \")\n",
    "    print()"
   ]
  },
  {
   "cell_type": "code",
   "execution_count": 30,
   "id": "39f87d5c-67aa-4ae5-8a3e-88fb7528a343",
   "metadata": {},
   "outputs": [
    {
     "name": "stdout",
     "output_type": "stream",
     "text": [
      "1\n",
      "2\n",
      "3\n",
      "4\n"
     ]
    }
   ],
   "source": [
    "for i in range(1, 11):\n",
    "    if i == 5:\n",
    "        break\n",
    "    print(i)"
   ]
  },
  {
   "cell_type": "code",
   "execution_count": 31,
   "id": "cb51181f-50f1-46fd-b4d9-d55b923378d8",
   "metadata": {},
   "outputs": [
    {
     "name": "stdout",
     "output_type": "stream",
     "text": [
      "1\n",
      "2\n",
      "3\n",
      "4\n",
      "6\n",
      "7\n",
      "8\n",
      "9\n",
      "10\n"
     ]
    }
   ],
   "source": [
    "for i in range(1, 11):\n",
    "    if i == 5:\n",
    "        continue\n",
    "    print(i)"
   ]
  },
  {
   "cell_type": "code",
   "execution_count": null,
   "id": "7433bcbf-265a-4c4b-adfb-c7c54525847b",
   "metadata": {},
   "outputs": [],
   "source": []
  },
  {
   "cell_type": "code",
   "execution_count": 32,
   "id": "c9729e6e-af7e-4e65-b945-22b3d6f09551",
   "metadata": {},
   "outputs": [
    {
     "name": "stdout",
     "output_type": "stream",
     "text": [
      "Hello, there!\n"
     ]
    }
   ],
   "source": [
    "def greet():\n",
    "    print(\"Hello, there!\")\n",
    "\n",
    "greet()"
   ]
  },
  {
   "cell_type": "code",
   "execution_count": 33,
   "id": "28cef00e-30f5-4454-949e-d3eb237acd95",
   "metadata": {},
   "outputs": [
    {
     "name": "stdout",
     "output_type": "stream",
     "text": [
      "8\n"
     ]
    }
   ],
   "source": [
    "def multiply(a, b):\n",
    "    return a * b\n",
    "\n",
    "print(multiply(2, 4))"
   ]
  },
  {
   "cell_type": "code",
   "execution_count": 43,
   "id": "d64130e6-9e2c-486a-ac3b-87906142a60f",
   "metadata": {},
   "outputs": [
    {
     "name": "stdout",
     "output_type": "stream",
     "text": [
      "I have a dog named matteo.\n"
     ]
    }
   ],
   "source": [
    "def describe_pet(pet_name, animal_type=\"dog\"):\n",
    "    print(f\"I have a {animal_type} named {pet_name}.\")\n",
    "describe_pet(\"matteo\")\n"
   ]
  },
  {
   "cell_type": "code",
   "execution_count": 45,
   "id": "29b0bd08-888e-42cd-b4c0-df2f05f919cf",
   "metadata": {},
   "outputs": [
    {
     "name": "stdout",
     "output_type": "stream",
     "text": [
      "20\n"
     ]
    }
   ],
   "source": [
    "def get_max(numbers):\n",
    "    return max(numbers)\n",
    "\n",
    "print(get_max([2, 18, 5, 20]))"
   ]
  },
  {
   "cell_type": "code",
   "execution_count": 49,
   "id": "bdad8445-ab4d-414c-b1bb-766d13f330ff",
   "metadata": {},
   "outputs": [
    {
     "name": "stdout",
     "output_type": "stream",
     "text": [
      "I’m local!\n"
     ]
    }
   ],
   "source": [
    "def local_test():\n",
    "    local_var = \"I’m local!\"\n",
    "    print(local_var)\n",
    "\n",
    "local_test()"
   ]
  },
  {
   "cell_type": "code",
   "execution_count": 50,
   "id": "5dd996b7-3227-4943-8aee-fc77c4f0dcf2",
   "metadata": {},
   "outputs": [
    {
     "name": "stdout",
     "output_type": "stream",
     "text": [
      "I’m global!\n"
     ]
    }
   ],
   "source": [
    "def show_global():\n",
    "    global_var = \"I’m global!\"\n",
    "    print(global_var)\n",
    "show_global()"
   ]
  },
  {
   "cell_type": "code",
   "execution_count": 51,
   "id": "522866fe-0f16-434f-851e-8b4a3c35bf95",
   "metadata": {},
   "outputs": [
    {
     "name": "stdout",
     "output_type": "stream",
     "text": [
      "25\n"
     ]
    }
   ],
   "source": [
    "square = lambda x: x**2\n",
    "print(square(5))"
   ]
  },
  {
   "cell_type": "code",
   "execution_count": 52,
   "id": "cc2bb3ef-dc06-4a98-b4b4-8821ca7626a7",
   "metadata": {},
   "outputs": [
    {
     "name": "stdout",
     "output_type": "stream",
     "text": [
      "[2, 4, 6]\n"
     ]
    }
   ],
   "source": [
    "nums = [1, 2, 3, 4, 5, 6]\n",
    "evens = list(filter(lambda x: x % 2 == 0, nums))\n",
    "print(evens)"
   ]
  },
  {
   "cell_type": "code",
   "execution_count": 53,
   "id": "b892bcae-14b6-4c9a-b423-c230de73d2eb",
   "metadata": {},
   "outputs": [
    {
     "name": "stdout",
     "output_type": "stream",
     "text": [
      "[32.0, 50.0, 68.0]\n"
     ]
    }
   ],
   "source": [
    "celsius = [0, 10, 20]\n",
    "fahrenheit = list(map(lambda c: c * 9/5 + 32, celsius))\n",
    "print(fahrenheit)\n"
   ]
  },
  {
   "cell_type": "code",
   "execution_count": 54,
   "id": "eed34c0f-9584-4b61-a0ff-880979e3d11e",
   "metadata": {},
   "outputs": [
    {
     "name": "stdout",
     "output_type": "stream",
     "text": [
      "5\n",
      "4\n",
      "3\n",
      "2\n",
      "1\n"
     ]
    }
   ],
   "source": [
    "def countdown(n):\n",
    "    if n > 0:\n",
    "        print(n)\n",
    "        countdown(n - 1)\n",
    "\n",
    "countdown(5)\n"
   ]
  },
  {
   "cell_type": "code",
   "execution_count": null,
   "id": "edb14fef-2b64-4e9d-aa12-ecbc0bd54946",
   "metadata": {},
   "outputs": [],
   "source": []
  },
  {
   "cell_type": "code",
   "execution_count": 57,
   "id": "3d286316-5d6e-49c8-a6c7-19d994ade871",
   "metadata": {},
   "outputs": [
    {
     "name": "stdout",
     "output_type": "stream",
     "text": [
      "orange\n"
     ]
    }
   ],
   "source": [
    "colors = [\"red\", \"orange\", \"purple\"]\n",
    "print(colors[1])"
   ]
  },
  {
   "cell_type": "code",
   "execution_count": 58,
   "id": "7ef23218-cbec-4503-ad05-b1bb27b629e3",
   "metadata": {},
   "outputs": [
    {
     "name": "stdout",
     "output_type": "stream",
     "text": [
      "['red', 'orange', 'purple', 'green']\n"
     ]
    }
   ],
   "source": [
    "colors.append(\"green\")\n",
    "print(colors)"
   ]
  },
  {
   "cell_type": "code",
   "execution_count": 59,
   "id": "bbd21e28-a4c1-4fd9-b635-06c66bf12a04",
   "metadata": {},
   "outputs": [
    {
     "name": "stdout",
     "output_type": "stream",
     "text": [
      "('Jan', 'Feb', 'Mar', 'Apr')\n"
     ]
    }
   ],
   "source": [
    "months = (\"Jan\", \"Feb\", \"Mar\", \"Apr\")\n",
    "print(months)"
   ]
  },
  {
   "cell_type": "code",
   "execution_count": 63,
   "id": "746bfcbf-9d90-49df-a038-368f3702d486",
   "metadata": {},
   "outputs": [],
   "source": [
    "student = {\"name\": \"Rany\", \"age\": 19, \"courses\": [\"Math\", \"french\"]}"
   ]
  },
  {
   "cell_type": "code",
   "execution_count": 64,
   "id": "8056063a-d7b1-4c42-ac94-d53ec6db2e10",
   "metadata": {},
   "outputs": [
    {
     "name": "stdout",
     "output_type": "stream",
     "text": [
      "19\n"
     ]
    }
   ],
   "source": [
    "print(student[\"age\"])"
   ]
  },
  {
   "cell_type": "code",
   "execution_count": 65,
   "id": "3fe44a92-21d7-4556-8ac1-747af20ae94f",
   "metadata": {},
   "outputs": [
    {
     "name": "stdout",
     "output_type": "stream",
     "text": [
      "{'name': 'Rany', 'age': 19, 'courses': ['Math', 'french'], 'year': 2}\n"
     ]
    }
   ],
   "source": [
    "student[\"year\"] = 2\n",
    "print(student)"
   ]
  },
  {
   "cell_type": "code",
   "execution_count": 68,
   "id": "39c098bf-df03-4c14-bd01-40592d961f1c",
   "metadata": {},
   "outputs": [
    {
     "name": "stdout",
     "output_type": "stream",
     "text": [
      "{1, 2, 3, 4, 5}\n"
     ]
    }
   ],
   "source": [
    "nums = [1, 2, 2, 3, 4, 4, 5]\n",
    "unique_nums = set(nums)\n",
    "print(unique_nums)"
   ]
  },
  {
   "cell_type": "code",
   "execution_count": 69,
   "id": "8fb87e51-2c71-41e0-b152-3d625f204b42",
   "metadata": {},
   "outputs": [
    {
     "name": "stdout",
     "output_type": "stream",
     "text": [
      "['orange', 'purple', 'green']\n"
     ]
    }
   ],
   "source": [
    "colors.remove(\"red\")\n",
    "print(colors)"
   ]
  },
  {
   "cell_type": "code",
   "execution_count": 70,
   "id": "38d49c9e-457e-4852-809f-011bbd32a3b6",
   "metadata": {},
   "outputs": [
    {
     "name": "stdout",
     "output_type": "stream",
     "text": [
      "dict_keys(['name', 'age', 'courses', 'year'])\n"
     ]
    }
   ],
   "source": [
    "print(student.keys())\n"
   ]
  },
  {
   "cell_type": "code",
   "execution_count": 71,
   "id": "43a57c5c-be5f-4acc-9471-15f60864a386",
   "metadata": {},
   "outputs": [
    {
     "name": "stdout",
     "output_type": "stream",
     "text": [
      "{2, 3}\n"
     ]
    }
   ],
   "source": [
    "a = {1, 2, 3}\n",
    "b = {2, 3, 4}\n",
    "print(a.intersection(b))"
   ]
  },
  {
   "cell_type": "code",
   "execution_count": null,
   "id": "5c85c292-5ff7-440d-9e5e-6a67d6a65816",
   "metadata": {},
   "outputs": [],
   "source": []
  },
  {
   "cell_type": "code",
   "execution_count": 72,
   "id": "47d9431b-1635-48ee-a930-c651e23bf70e",
   "metadata": {},
   "outputs": [],
   "source": [
    "import numpy as np"
   ]
  },
  {
   "cell_type": "code",
   "execution_count": 73,
   "id": "84507014-8ce4-4ab7-9996-72bdb1aaeca5",
   "metadata": {},
   "outputs": [
    {
     "name": "stdout",
     "output_type": "stream",
     "text": [
      "[1 2 3 4 5]\n"
     ]
    }
   ],
   "source": [
    "arr = np.array([1, 2, 3, 4, 5])\n",
    "print(arr)"
   ]
  },
  {
   "cell_type": "code",
   "execution_count": 74,
   "id": "eee67768-cb74-494f-93af-f1c00c670a1d",
   "metadata": {},
   "outputs": [
    {
     "name": "stdout",
     "output_type": "stream",
     "text": [
      "[[0. 0. 0.]\n",
      " [0. 0. 0.]\n",
      " [0. 0. 0.]]\n"
     ]
    }
   ],
   "source": [
    "zeros = np.zeros((3, 3))\n",
    "print(zeros)"
   ]
  },
  {
   "cell_type": "code",
   "execution_count": 75,
   "id": "643c66a2-8c97-4b8a-8c0a-6c982bb5cd5f",
   "metadata": {},
   "outputs": [],
   "source": [
    "import pandas as pd"
   ]
  },
  {
   "cell_type": "code",
   "execution_count": 77,
   "id": "6e0d2849-52af-478c-9a64-64d1022f2be7",
   "metadata": {},
   "outputs": [
    {
     "name": "stdout",
     "output_type": "stream",
     "text": [
      "    Name  Age\n",
      "0  Alice   24\n",
      "1    Bob   35\n"
     ]
    }
   ],
   "source": [
    "df = pd.DataFrame({\n",
    "    \"Name\": [\"Alice\", \"Bob\"],\n",
    "    \"Age\": [24, 35]})\n",
    "print(df)"
   ]
  },
  {
   "cell_type": "code",
   "execution_count": 79,
   "id": "3a16ebb0-076d-4fb2-ba8a-a842ca1d61ae",
   "metadata": {},
   "outputs": [],
   "source": [
    "from sklearn import datasets"
   ]
  },
  {
   "cell_type": "code",
   "execution_count": 80,
   "id": "002af61b-9991-4837-866e-b4507997edac",
   "metadata": {},
   "outputs": [],
   "source": [
    "iris = datasets.load_iris(as_frame=True)\n",
    "iris_df = iris.frame\n"
   ]
  },
  {
   "cell_type": "code",
   "execution_count": 81,
   "id": "70ec2c3e-b88f-4f71-9508-a0c65db3f585",
   "metadata": {},
   "outputs": [
    {
     "name": "stdout",
     "output_type": "stream",
     "text": [
      "   sepal length (cm)  sepal width (cm)  petal length (cm)  petal width (cm)  \\\n",
      "0                5.1               3.5                1.4               0.2   \n",
      "1                4.9               3.0                1.4               0.2   \n",
      "2                4.7               3.2                1.3               0.2   \n",
      "3                4.6               3.1                1.5               0.2   \n",
      "4                5.0               3.6                1.4               0.2   \n",
      "\n",
      "   target  \n",
      "0       0  \n",
      "1       0  \n",
      "2       0  \n",
      "3       0  \n",
      "4       0  \n"
     ]
    }
   ],
   "source": [
    "print(iris_df.head())\n"
   ]
  },
  {
   "cell_type": "code",
   "execution_count": 82,
   "id": "6db4487b-bd3f-4a69-acb4-81194fd95f58",
   "metadata": {},
   "outputs": [
    {
     "name": "stdout",
     "output_type": "stream",
     "text": [
      "<class 'pandas.core.frame.DataFrame'>\n",
      "RangeIndex: 150 entries, 0 to 149\n",
      "Data columns (total 5 columns):\n",
      " #   Column             Non-Null Count  Dtype  \n",
      "---  ------             --------------  -----  \n",
      " 0   sepal length (cm)  150 non-null    float64\n",
      " 1   sepal width (cm)   150 non-null    float64\n",
      " 2   petal length (cm)  150 non-null    float64\n",
      " 3   petal width (cm)   150 non-null    float64\n",
      " 4   target             150 non-null    int32  \n",
      "dtypes: float64(4), int32(1)\n",
      "memory usage: 5.4 KB\n",
      "None\n"
     ]
    }
   ],
   "source": [
    "print(iris_df.info())"
   ]
  },
  {
   "cell_type": "code",
   "execution_count": 83,
   "id": "f179f49e-fe5f-456d-801d-66d3e4f77b00",
   "metadata": {},
   "outputs": [],
   "source": [
    "import matplotlib.pyplot as plt"
   ]
  },
  {
   "cell_type": "code",
   "execution_count": 84,
   "id": "a496b0bf-7993-4f6b-96c6-0c50e350bbfc",
   "metadata": {},
   "outputs": [
    {
     "data": {
      "image/png": "[encoded data removed]",
      "text/plain": [
       "<Figure size 640x480 with 1 Axes>"
      ]
     },
     "metadata": {},
     "output_type": "display_data"
    }
   ],
   "source": [
    "plt.plot([1, 4, 2, 5])\n",
    "plt.show()"
   ]
  },
  {
   "cell_type": "code",
   "execution_count": 85,
   "id": "b7ebcb3f-392c-40ac-975e-49d849b1cce5",
   "metadata": {},
   "outputs": [
    {
     "data": {
      "image/png": "[encoded data removed]",
      "text/plain": [
       "<Figure size 640x480 with 1 Axes>"
      ]
     },
     "metadata": {},
     "output_type": "display_data"
    }
   ],
   "source": [
    "plt.scatter(iris_df[\"sepal length (cm)\"], iris_df[\"sepal width (cm)\"])\n",
    "plt.xlabel(\"Sepal Length\")\n",
    "plt.ylabel(\"Sepal Width\")\n",
    "plt.show()"
   ]
  },
  {
   "cell_type": "code",
   "execution_count": 89,
   "id": "c2524fb9-9175-44ba-949d-7f000cd373e2",
   "metadata": {},
   "outputs": [],
   "source": [
    "from sklearn.model_selection import train_test_split"
   ]
  },
  {
   "cell_type": "code",
   "execution_count": 90,
   "id": "58a9598f-1fd7-40b2-b0b6-5791a7624d60",
   "metadata": {},
   "outputs": [
    {
     "name": "stdout",
     "output_type": "stream",
     "text": [
      "Train size: (120, 4) Test size: (30, 4)\n"
     ]
    }
   ],
   "source": [
    "X = iris_df.drop(\"target\", axis=1)\n",
    "y = iris_df[\"target\"]\n",
    "X_train, X_test, y_train, y_test = train_test_split(X, y, test_size=0.2)\n",
    "print(\"Train size:\", X_train.shape, \"Test size:\", X_test.shape)"
   ]
  },
  {
   "cell_type": "code",
   "execution_count": null,
   "id": "93ff30a9-942c-4322-9f6b-1f34dcaf79d6",
   "metadata": {},
   "outputs": [],
   "source": []
  },
  {
   "cell_type": "code",
   "execution_count": 91,
   "id": "ff068073-0702-4093-8bc1-fa651e0e6652",
   "metadata": {},
   "outputs": [
    {
     "name": "stdout",
     "output_type": "stream",
     "text": [
      "[1 2 3 4 5]\n"
     ]
    }
   ],
   "source": [
    "arr = np.array([1, 2, 3, 4, 5])\n",
    "print(arr)"
   ]
  },
  {
   "cell_type": "code",
   "execution_count": 92,
   "id": "4e9ea6fd-a434-4f65-ac2c-d89316d0b8b9",
   "metadata": {},
   "outputs": [
    {
     "name": "stdout",
     "output_type": "stream",
     "text": [
      "[[0. 0. 0.]\n",
      " [0. 0. 0.]]\n"
     ]
    }
   ],
   "source": [
    "zeros = np.zeros((2, 3))\n",
    "print(zeros)"
   ]
  },
  {
   "cell_type": "code",
   "execution_count": 93,
   "id": "02da6864-6a10-4ad5-b0f1-53c4d5db2c2c",
   "metadata": {},
   "outputs": [
    {
     "name": "stdout",
     "output_type": "stream",
     "text": [
      "[[1. 1. 1. 1.]\n",
      " [1. 1. 1. 1.]\n",
      " [1. 1. 1. 1.]\n",
      " [1. 1. 1. 1.]]\n"
     ]
    }
   ],
   "source": [
    "ones = np.ones((4, 4))\n",
    "print(ones)"
   ]
  },
  {
   "cell_type": "code",
   "execution_count": 94,
   "id": "f2bb282d-7a9d-4a8a-ad8e-e82679aec3b3",
   "metadata": {},
   "outputs": [
    {
     "name": "stdout",
     "output_type": "stream",
     "text": [
      "[0.         0.11111111 0.22222222 0.33333333 0.44444444 0.55555556\n",
      " 0.66666667 0.77777778 0.88888889 1.        ]\n"
     ]
    }
   ],
   "source": [
    "seq = np.linspace(0, 1, 10)\n",
    "print(seq)"
   ]
  },
  {
   "cell_type": "code",
   "execution_count": 95,
   "id": "b7def17a-266c-426a-bc1b-cf97e6722f0a",
   "metadata": {},
   "outputs": [
    {
     "name": "stdout",
     "output_type": "stream",
     "text": [
      "[[ 1.52240754 -0.79650828 -0.18887696  0.2471756   0.62445643]\n",
      " [-0.5044902  -0.36651461  0.76655626 -0.5872821   0.73078101]\n",
      " [-3.26130965  0.05461287  0.60858804 -2.30996763  0.57188611]\n",
      " [ 0.70836165  0.16506869 -0.21120408  0.58187789  1.13988923]\n",
      " [ 1.54801536 -0.0519666  -0.36475099  1.24220899 -0.44597568]]\n"
     ]
    }
   ],
   "source": [
    "rand_arr = np.random.randn(5, 5)\n",
    "print(rand_arr)"
   ]
  },
  {
   "cell_type": "code",
   "execution_count": 96,
   "id": "bc6f3892-37dc-45f7-a37a-4a8ca95dddfd",
   "metadata": {},
   "outputs": [
    {
     "name": "stdout",
     "output_type": "stream",
     "text": [
      "Shape: (3, 5)\n",
      "Dimensions: 2\n"
     ]
    }
   ],
   "source": [
    "arr2d = np.zeros((3, 5))\n",
    "print(\"Shape:\", arr2d.shape)\n",
    "print(\"Dimensions:\", arr2d.ndim)"
   ]
  },
  {
   "cell_type": "code",
   "execution_count": 97,
   "id": "91cadb53-1a44-4e7b-9948-39a762c75841",
   "metadata": {},
   "outputs": [
    {
     "name": "stdout",
     "output_type": "stream",
     "text": [
      "Element at index 2: 30\n"
     ]
    }
   ],
   "source": [
    "arr = np.array([10, 20, 30, 40, 50])\n",
    "print(\"Element at index 2:\", arr[2])\n"
   ]
  },
  {
   "cell_type": "code",
   "execution_count": 98,
   "id": "b0c1d87c-5f11-42be-bcfc-c1295e7b25f3",
   "metadata": {},
   "outputs": [
    {
     "name": "stdout",
     "output_type": "stream",
     "text": [
      "Elements index 1 to 3: [20 30 40]\n"
     ]
    }
   ],
   "source": [
    "arr = np.arange(10, 60, 10)\n",
    "print(\"Elements index 1 to 3:\", arr[1:4])\n"
   ]
  },
  {
   "cell_type": "code",
   "execution_count": 99,
   "id": "669bb8b4-92b5-4219-994d-ea7979a34ade",
   "metadata": {},
   "outputs": [
    {
     "name": "stdout",
     "output_type": "stream",
     "text": [
      "Elements > 3: [4 5 6]\n"
     ]
    }
   ],
   "source": [
    "arr = np.array([1, 2, 3, 4, 5, 6])\n",
    "greater_than_3 = arr[arr > 3]\n",
    "print(\"Elements > 3:\", greater_than_3)"
   ]
  },
  {
   "cell_type": "code",
   "execution_count": 100,
   "id": "749c76e9-23f4-43d7-8326-05a913ee426c",
   "metadata": {},
   "outputs": [
    {
     "name": "stdout",
     "output_type": "stream",
     "text": [
      "Element-wise sum: [5 7 9]\n"
     ]
    }
   ],
   "source": [
    "a = np.array([1, 2, 3])\n",
    "b = np.array([4, 5, 6])\n",
    "print(\"Element-wise sum:\", a + b)"
   ]
  },
  {
   "cell_type": "code",
   "execution_count": null,
   "id": "521cc033-919d-47f6-8b27-366c45e6cf0e",
   "metadata": {},
   "outputs": [],
   "source": []
  },
  {
   "cell_type": "code",
   "execution_count": 102,
   "id": "4d2a03b5-687b-4362-acd1-58f1ef81ef30",
   "metadata": {},
   "outputs": [
    {
     "name": "stdout",
     "output_type": "stream",
     "text": [
      "0      Alice\n",
      "1        Bob\n",
      "2    Charlie\n",
      "dtype: object\n"
     ]
    }
   ],
   "source": [
    "s = pd.Series(['Alice', 'Bob', 'Charlie'])\n",
    "print(s)"
   ]
  },
  {
   "cell_type": "code",
   "execution_count": 103,
   "id": "ff4c7d0f-5511-48f9-aad8-e07442bc2e68",
   "metadata": {},
   "outputs": [
    {
     "name": "stdout",
     "output_type": "stream",
     "text": [
      "      Name  Age\n",
      "0     Anna   25\n",
      "1      Bob   30\n",
      "2  Charlie   35\n"
     ]
    }
   ],
   "source": [
    "df = pd.DataFrame({\n",
    "    'Name': ['Anna', 'Bob', 'Charlie'],\n",
    "    'Age': [25, 30, 35]\n",
    "})\n",
    "print(df)"
   ]
  },
  {
   "cell_type": "code",
   "execution_count": 104,
   "id": "ca199510-2eeb-4335-9764-127cd896ff5d",
   "metadata": {},
   "outputs": [
    {
     "name": "stdout",
     "output_type": "stream",
     "text": [
      "   Name  Age\n",
      "0  Anna   25\n",
      "1   Bob   30\n"
     ]
    }
   ],
   "source": [
    "print(df.head(2))"
   ]
  },
  {
   "cell_type": "code",
   "execution_count": 105,
   "id": "9c3fd57b-0495-417e-8266-01f8f5cc2bb0",
   "metadata": {},
   "outputs": [
    {
     "name": "stdout",
     "output_type": "stream",
     "text": [
      "0    25\n",
      "1    30\n",
      "2    35\n",
      "Name: Age, dtype: int64\n"
     ]
    }
   ],
   "source": [
    "print(df['Age'])"
   ]
  },
  {
   "cell_type": "code",
   "execution_count": 106,
   "id": "79a56de4-7efc-450a-8cb7-98684eefadd7",
   "metadata": {},
   "outputs": [
    {
     "name": "stdout",
     "output_type": "stream",
     "text": [
      "<class 'pandas.core.frame.DataFrame'>\n",
      "RangeIndex: 3 entries, 0 to 2\n",
      "Data columns (total 2 columns):\n",
      " #   Column  Non-Null Count  Dtype \n",
      "---  ------  --------------  ----- \n",
      " 0   Name    3 non-null      object\n",
      " 1   Age     3 non-null      int64 \n",
      "dtypes: int64(1), object(1)\n",
      "memory usage: 180.0+ bytes\n",
      "None\n"
     ]
    }
   ],
   "source": [
    "print(df.info())"
   ]
  },
  {
   "cell_type": "code",
   "execution_count": 107,
   "id": "30bb9c1c-a2d9-4afa-a070-571dcbe64c26",
   "metadata": {},
   "outputs": [
    {
     "name": "stdout",
     "output_type": "stream",
     "text": [
      "      Name  Age\n",
      "1      Bob   30\n",
      "2  Charlie   35\n"
     ]
    }
   ],
   "source": [
    "print(df[df['Age'] > 25])"
   ]
  },
  {
   "cell_type": "code",
   "execution_count": 108,
   "id": "6478835c-c392-4f41-8647-d6c1553c39b7",
   "metadata": {},
   "outputs": [
    {
     "name": "stdout",
     "output_type": "stream",
     "text": [
      "      Name  Age      City\n",
      "0     Anna   25    London\n",
      "1      Bob   30  New York\n",
      "2  Charlie   35    Berlin\n"
     ]
    }
   ],
   "source": [
    "df['City'] = ['London', 'New York', 'Berlin']\n",
    "print(df)"
   ]
  },
  {
   "cell_type": "code",
   "execution_count": 109,
   "id": "d2dad543-5a20-467d-8d66-bed9804e433d",
   "metadata": {},
   "outputs": [
    {
     "name": "stdout",
     "output_type": "stream",
     "text": [
      "count     3.0\n",
      "mean     30.0\n",
      "std       5.0\n",
      "min      25.0\n",
      "25%      27.5\n",
      "50%      30.0\n",
      "75%      32.5\n",
      "max      35.0\n",
      "Name: Age, dtype: float64\n"
     ]
    }
   ],
   "source": [
    "print(df['Age'].describe())\n"
   ]
  },
  {
   "cell_type": "code",
   "execution_count": 110,
   "id": "88305eff-aae7-4e4e-92d8-96a2720064e8",
   "metadata": {},
   "outputs": [
    {
     "name": "stdout",
     "output_type": "stream",
     "text": [
      "     A\n",
      "0  1.0\n",
      "1  2.0\n",
      "2  0.0\n"
     ]
    }
   ],
   "source": [
    "df_missing = pd.DataFrame({'A': [1, 2, np.nan]})\n",
    "print(df_missing.fillna(0))"
   ]
  },
  {
   "cell_type": "code",
   "execution_count": null,
   "id": "7a28a71e-0245-4375-b566-fa416ba03796",
   "metadata": {},
   "outputs": [],
   "source": [
    "df_csv = pd.read_csv(\"data.csv\")\n",
    "print(df_csv.head())\n"
   ]
  },
  {
   "cell_type": "code",
   "execution_count": 114,
   "id": "cb655376-e343-4c4e-849f-05086f5ea581",
   "metadata": {},
   "outputs": [
    {
     "data": {
      "image/png": "[encoded data removed]",
      "text/plain": [
       "<Figure size 640x480 with 1 Axes>"
      ]
     },
     "metadata": {},
     "output_type": "display_data"
    }
   ],
   "source": [
    "plt.plot([1, 2, 3, 4])\n",
    "plt.show()"
   ]
  },
  {
   "cell_type": "code",
   "execution_count": 115,
   "id": "2521f361-5fd3-40b3-b5ab-aa7acaf2874a",
   "metadata": {},
   "outputs": [
    {
     "data": {
      "image/png": "[encoded data removed]",
      "text/plain": [
       "<Figure size 640x480 with 1 Axes>"
      ]
     },
     "metadata": {},
     "output_type": "display_data"
    }
   ],
   "source": [
    "plt.plot([1, 4, 2, 5])\n",
    "plt.title(\"My First Plot\")\n",
    "plt.xlabel(\"X\")\n",
    "plt.ylabel(\"Y\")\n",
    "plt.show()"
   ]
  },
  {
   "cell_type": "code",
   "execution_count": 116,
   "id": "64385e6f-d838-491d-9c2c-c46e92cc1a8a",
   "metadata": {},
   "outputs": [
    {
     "data": {
      "image/png": "[encoded data removed]",
      "text/plain": [
       "<Figure size 640x480 with 1 Axes>"
      ]
     },
     "metadata": {},
     "output_type": "display_data"
    }
   ],
   "source": [
    "plt.scatter([1, 2, 3, 4, 5], [2, 4, 1, 5, 3])\n",
    "plt.show()"
   ]
  },
  {
   "cell_type": "code",
   "execution_count": 117,
   "id": "1283c37b-3579-47a6-a580-2a6064dbe90c",
   "metadata": {},
   "outputs": [
    {
     "data": {
      "image/png": "[encoded data removed]",
      "text/plain": [
       "<Figure size 640x480 with 1 Axes>"
      ]
     },
     "metadata": {},
     "output_type": "display_data"
    }
   ],
   "source": [
    "categories = ['A', 'B', 'C']\n",
    "values = [5, 7, 3]\n",
    "plt.bar(categories, values)\n",
    "plt.show()"
   ]
  },
  {
   "cell_type": "code",
   "execution_count": 123,
   "id": "3ba92153-356f-499d-b733-e017b84ed0a0",
   "metadata": {},
   "outputs": [
    {
     "data": {
      "image/png": "[encoded data removed]",
      "text/plain": [
       "<Figure size 640x480 with 1 Axes>"
      ]
     },
     "metadata": {},
     "output_type": "display_data"
    }
   ],
   "source": [
    "data = np.random.randn(1000)\n",
    "plt.hist(data, bins=20)\n",
    "plt.show()"
   ]
  },
  {
   "cell_type": "code",
   "execution_count": 119,
   "id": "9c2b49a2-9e3e-4ac1-8c4a-f2e5d9908c80",
   "metadata": {},
   "outputs": [
    {
     "data": {
      "image/png": "[encoded data removed]",
      "text/plain": [
       "<Figure size 640x480 with 2 Axes>"
      ]
     },
     "metadata": {},
     "output_type": "display_data"
    }
   ],
   "source": [
    "fig, (ax1, ax2) = plt.subplots(1, 2)\n",
    "ax1.plot([1, 2, 3, 4])\n",
    "ax2.bar(['A', 'B', 'C'], [5, 7, 3])\n",
    "plt.show()"
   ]
  },
  {
   "cell_type": "code",
   "execution_count": 124,
   "id": "8b31be5c-659f-4115-add5-af519e8b4b27",
   "metadata": {},
   "outputs": [
    {
     "data": {
      "image/png": "[encoded data removed]",
      "text/plain": [
       "<Figure size 640x480 with 1 Axes>"
      ]
     },
     "metadata": {},
     "output_type": "display_data"
    }
   ],
   "source": [
    "plt.plot([1, 2, 3, 4], 'r--')\n",
    "plt.show()"
   ]
  },
  {
   "cell_type": "code",
   "execution_count": 125,
   "id": "3a3a7819-22a7-4e73-846f-6a0c33392dc0",
   "metadata": {},
   "outputs": [
    {
     "data": {
      "image/png": "[encoded data removed]",
      "text/plain": [
       "<Figure size 640x480 with 1 Axes>"
      ]
     },
     "metadata": {},
     "output_type": "display_data"
    }
   ],
   "source": [
    "y1 = [1, 2, 3]\n",
    "y2 = [3, 2, 1]\n",
    "plt.plot(y1, label=\"Line 1\")\n",
    "plt.plot(y2, label=\"Line 2\")\n",
    "plt.legend()\n",
    "plt.show()"
   ]
  },
  {
   "cell_type": "code",
   "execution_count": 127,
   "id": "6194141a-9428-46be-aae5-0535ce21b8f7",
   "metadata": {},
   "outputs": [
    {
     "data": {
      "image/png": "[encoded data removed]",
      "text/plain": [
       "<Figure size 640x480 with 1 Axes>"
      ]
     },
     "metadata": {},
     "output_type": "display_data"
    }
   ],
   "source": [
    "plt.plot([2, 3, 5, 6])\n",
    "plt.xlim(0, 10)\n",
    "plt.ylim(-5, 5)\n",
    "plt.show()"
   ]
  },
  {
   "cell_type": "code",
   "execution_count": 129,
   "id": "1d1d3c49-06ed-4017-843f-abf42e4c884f",
   "metadata": {},
   "outputs": [],
   "source": [
    "plt.plot([5, 2, 3, 4])\n",
    "plt.savefig(\"my_plot.png\")\n",
    "plt.close()"
   ]
  },
  {
   "cell_type": "code",
   "execution_count": null,
   "id": "a238758a-0c19-457a-8dc6-169b312674fe",
   "metadata": {},
   "outputs": [],
   "source": []
  }
 ],
 "metadata": {
  "kernelspec": {
   "display_name": "Python 3 (ipykernel)",
   "language": "python",
   "name": "python3"
  },
  "language_info": {
   "codemirror_mode": {
    "name": "ipython",
    "version": 3
   },
   "file_extension": ".py",
   "mimetype": "text/x-python",
   "name": "python",
   "nbconvert_exporter": "python",
   "pygments_lexer": "ipython3",
   "version": "3.12.7"
  }
 },
 "nbformat": 4,
 "nbformat_minor": 5
}
