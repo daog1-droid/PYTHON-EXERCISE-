{
 "cells": [
  {
   "cell_type": "code",
   "execution_count": 1,
   "id": "3317b460-d784-4597-908e-2297daec1132",
   "metadata": {},
   "outputs": [
    {
     "name": "stdout",
     "output_type": "stream",
     "text": [
      "17\n"
     ]
    }
   ],
   "source": [
    "l=[2,4,6,5]\n",
    "print(sum(l))"
   ]
  },
  {
   "cell_type": "code",
   "execution_count": 2,
   "id": "97b26aa4-ba47-4bfd-b6bf-9a110ffde09d",
   "metadata": {},
   "outputs": [
    {
     "name": "stdout",
     "output_type": "stream",
     "text": [
      "4.25\n"
     ]
    }
   ],
   "source": [
    "l=[2,4,6,5]\n",
    "average=sum(l)/len(l)\n",
    "print(average)\n"
   ]
  },
  {
   "cell_type": "code",
   "execution_count": 3,
   "id": "f54797a0-0d4d-4f11-a1f3-543db8fb5cb9",
   "metadata": {},
   "outputs": [
    {
     "name": "stdout",
     "output_type": "stream",
     "text": [
      "2\n"
     ]
    }
   ],
   "source": [
    "l=[2,4,6,5]\n",
    "print(min(l))\n"
   ]
  },
  {
   "cell_type": "code",
   "execution_count": 4,
   "id": "c6114eb5-2438-4caf-8fef-57cf7ea00e0c",
   "metadata": {},
   "outputs": [
    {
     "name": "stdout",
     "output_type": "stream",
     "text": [
      "0\n"
     ]
    }
   ],
   "source": [
    "l=[2,4,6,5]\n",
    "print(l.index(min(l)))"
   ]
  },
  {
   "cell_type": "code",
   "execution_count": 5,
   "id": "e5eb05c0-a322-4d12-8a2c-8b20ae83185e",
   "metadata": {},
   "outputs": [
    {
     "name": "stdout",
     "output_type": "stream",
     "text": [
      "6\n"
     ]
    }
   ],
   "source": [
    "l=[2,4,6,5]\n",
    "print(max(l))"
   ]
  },
  {
   "cell_type": "code",
   "execution_count": 6,
   "id": "1e65193c-44c6-48f3-8f91-f05a33bcc625",
   "metadata": {},
   "outputs": [
    {
     "name": "stdout",
     "output_type": "stream",
     "text": [
      "2\n"
     ]
    }
   ],
   "source": [
    "l=[2,4,6,5]\n",
    "print(l.index(max(l)))"
   ]
  },
  {
   "cell_type": "code",
   "execution_count": 1,
   "id": "f7450582-77b7-41e6-b7ff-4a526e4b8ce4",
   "metadata": {},
   "outputs": [],
   "source": [
    "l=[1,5,2,0]"
   ]
  },
  {
   "cell_type": "code",
   "execution_count": 22,
   "id": "6a0e5da0-ccf4-497a-b707-a2b46c8f4298",
   "metadata": {},
   "outputs": [
    {
     "name": "stdout",
     "output_type": "stream",
     "text": [
      "Sum of l: 8\n",
      "Average of l: 2.0\n",
      "Min of l: 0\n",
      "Max of l: 5\n",
      "Index of Min of l: 3\n",
      "Index of Max of l: 1\n"
     ]
    }
   ],
   "source": [
    "l = [1, 5, 2, 0]\n",
    "sum = 0        \n",
    "min_val = l[0]\n",
    "max_val = l[0]\n",
    "min_index = 0\n",
    "max_index = 0\n",
    "for i in range(len(l)):\n",
    "    sum += l[i]            \n",
    "    if l[i] < min_val:\n",
    "        min_val = l[i]\n",
    "        min_index = i\n",
    "    if l[i] > max_val:\n",
    "        max_val = l[i]\n",
    "        max_index = i\n",
    "average = sum / len(l)      \n",
    "print(\"Sum of l:\", sum)\n",
    "print(\"Average of l:\", average)\n",
    "print(\"Min of l:\", min_val)\n",
    "print(\"Max of l:\", max_val)\n",
    "print(\"Index of Min of l:\", min_index)\n",
    "print(\"Index of Max of l:\", max_index)\n"
   ]
  },
  {
   "cell_type": "code",
   "execution_count": 37,
   "id": "47a99248-f4d3-40b9-9118-89bacb68a80a",
   "metadata": {},
   "outputs": [],
   "source": [
    "def square_list(l):\n",
    "    return [num ** 2 for number in l]"
   ]
  },
  {
   "cell_type": "code",
   "execution_count": 36,
   "id": "8a2a034c-53ac-44b5-9799-4acdc71d7004",
   "metadata": {},
   "outputs": [
    {
     "name": "stdout",
     "output_type": "stream",
     "text": [
      "[1, 16, 36]\n"
     ]
    }
   ],
   "source": [
    "l = [1, 4, 6]\n",
    "ll = square_list(l)\n",
    "print(ll)"
   ]
  },
  {
   "cell_type": "code",
   "execution_count": 48,
   "id": "52cacb29-bec6-4b6e-a441-12f6bbc15e78",
   "metadata": {},
   "outputs": [],
   "source": [
    "def binary_search(l, target):\n",
    "    left = 0\n",
    "    right = len(l) - 1\n",
    "    while left <= right:\n",
    "        mid = (left + right) // 2\n",
    "        if l[mid] == target:\n",
    "            return True\n",
    "        elif l[mid] < target:\n",
    "            left = mid + 1\n",
    "        else:\n",
    "            right = mid - 1\n",
    "    return False"
   ]
  },
  {
   "cell_type": "code",
   "execution_count": 49,
   "id": "fbc6f889-5541-4c0c-9b8a-ac982989bb90",
   "metadata": {},
   "outputs": [
    {
     "name": "stdout",
     "output_type": "stream",
     "text": [
      "True\n"
     ]
    }
   ],
   "source": [
    "l=[1, 4, 5]\n",
    "print(binary_search(l,4))"
   ]
  },
  {
   "cell_type": "code",
   "execution_count": 50,
   "id": "d3263657-ed8f-4ac3-b11e-488b7f9e3fa6",
   "metadata": {},
   "outputs": [
    {
     "name": "stdout",
     "output_type": "stream",
     "text": [
      "False\n"
     ]
    }
   ],
   "source": [
    "l=[1, 4, 5]\n",
    "print(binary_search(l,2))"
   ]
  },
  {
   "cell_type": "code",
   "execution_count": 2,
   "id": "767f73ba-3942-4a93-be85-3fa7a60b93e0",
   "metadata": {},
   "outputs": [],
   "source": [
    "def bubble_sort(l):\n",
    "    n = len(l)\n",
    "    for i in range(n):\n",
    "        for j in range(0, n - i - 1):\n",
    "            if l[j] > l[j + 1]:\n",
    "                l[j], l[j + 1] = l[j + 1], l[j] \n",
    "    return l"
   ]
  },
  {
   "cell_type": "code",
   "execution_count": 3,
   "id": "07de3a3a-de09-4d25-8fb9-8a043f302bed",
   "metadata": {},
   "outputs": [
    {
     "name": "stdout",
     "output_type": "stream",
     "text": [
      "[1, 4, 5]\n"
     ]
    }
   ],
   "source": [
    "l = [4, 5, 1]\n",
    "print(bubble_sort(l)) "
   ]
  },
  {
   "cell_type": "code",
   "execution_count": 1,
   "id": "4b525551-5a55-482e-9a0f-802447314d8a",
   "metadata": {},
   "outputs": [],
   "source": [
    "x = [200, 250, 300]\n",
    "y = [250, 300, 350]"
   ]
  },
  {
   "cell_type": "code",
   "execution_count": 2,
   "id": "6db92fea-6cd8-463e-9eb1-1b5521622fd2",
   "metadata": {},
   "outputs": [],
   "source": [
    "def costfunction(x, y, theta=[0, 1]):\n",
    "    m = len(x)\n",
    "    s = 0\n",
    "    i = 0\n",
    "    while i < m:\n",
    "        s = s + (theta[0] + theta[1]*x[i] - y[i])**2\n",
    "        i += 1\n",
    "    return s / (2*m)"
   ]
  },
  {
   "cell_type": "code",
   "execution_count": 3,
   "id": "9f543921-4ff3-45d4-a85d-a4f59e8b87aa",
   "metadata": {},
   "outputs": [
    {
     "name": "stdout",
     "output_type": "stream",
     "text": [
      "1250.0\n"
     ]
    }
   ],
   "source": [
    "print(costfunction(x, y))"
   ]
  },
  {
   "cell_type": "code",
   "execution_count": 2,
   "id": "f6c1deff-d567-4809-93f4-f8702d9f0089",
   "metadata": {},
   "outputs": [],
   "source": [
    "import numpy as np "
   ]
  },
  {
   "cell_type": "code",
   "execution_count": null,
   "id": "809aee08-e1e0-42cc-9efa-03228495752e",
   "metadata": {},
   "outputs": [],
   "source": [
    "x=np.random.randn(0,1)"
   ]
  },
  {
   "cell_type": "code",
   "execution_count": 2,
   "id": "8d2323d9-7f8e-4a93-b5c0-6410cb13bd07",
   "metadata": {},
   "outputs": [],
   "source": [
    "import numpy as np\n",
    "\n",
    "def gradient_descent(X, y, theta, alpha, iterations):\n",
    "    m = len(y)\n",
    "    cost_history = []\n",
    "    \n",
    "    for _ in range(iterations):\n",
    "        predictions = X.dot(theta)\n",
    "        errors = predictions - y\n",
    "        gradient = (1/m) * X.T.dot(errors)\n",
    "        theta = theta - alpha * gradient\n",
    "    return theta\n"
   ]
  },
  {
   "cell_type": "code",
   "execution_count": null,
   "id": "913b41e6-ef90-4251-94a5-423cdc981391",
   "metadata": {},
   "outputs": [],
   "source": []
  },
  {
   "cell_type": "code",
   "execution_count": 1,
   "id": "53bfdac5-e118-4f58-9f84-ced211116c4e",
   "metadata": {},
   "outputs": [],
   "source": [
    "def costfunction(x,y,theta=[[0],[1]]):\n",
    "    m=len(y)\n",
    "    x_extend=np.c_[np.ones(m),x]\n",
    "    h=x_extend.dot(theta)\n",
    "    j=h-y\n",
    "    j=j**2\n",
    "    j=np.sum(j)/(2*m)\n",
    "    return j"
   ]
  },
  {
   "cell_type": "code",
   "execution_count": 2,
   "id": "198af7ae-6458-48ad-a0f8-743d9b698fac",
   "metadata": {},
   "outputs": [],
   "source": [
    "import numpy as np\n",
    "import matplotlib.pyplot as plt"
   ]
  },
  {
   "cell_type": "code",
   "execution_count": 3,
   "id": "9867ea52-5b99-49d3-ba95-fb8c470d81f0",
   "metadata": {},
   "outputs": [],
   "source": [
    "data=np.loadtxt(\"./data/ex1data2.txt\",delimiter=\",\")"
   ]
  },
  {
   "cell_type": "code",
   "execution_count": 4,
   "id": "751ebc8f-b0aa-48c6-9bc5-39bc54eb17e2",
   "metadata": {},
   "outputs": [
    {
     "data": {
      "text/plain": [
       "array([[2.10400e+03, 3.00000e+00, 3.99900e+05],\n",
       "       [1.60000e+03, 3.00000e+00, 3.29900e+05],\n",
       "       [2.40000e+03, 3.00000e+00, 3.69000e+05],\n",
       "       [1.41600e+03, 2.00000e+00, 2.32000e+05],\n",
       "       [3.00000e+03, 4.00000e+00, 5.39900e+05],\n",
       "       [1.98500e+03, 4.00000e+00, 2.99900e+05],\n",
       "       [1.53400e+03, 3.00000e+00, 3.14900e+05],\n",
       "       [1.42700e+03, 3.00000e+00, 1.98999e+05],\n",
       "       [1.38000e+03, 3.00000e+00, 2.12000e+05],\n",
       "       [1.49400e+03, 3.00000e+00, 2.42500e+05],\n",
       "       [1.94000e+03, 4.00000e+00, 2.39999e+05],\n",
       "       [2.00000e+03, 3.00000e+00, 3.47000e+05],\n",
       "       [1.89000e+03, 3.00000e+00, 3.29999e+05],\n",
       "       [4.47800e+03, 5.00000e+00, 6.99900e+05],\n",
       "       [1.26800e+03, 3.00000e+00, 2.59900e+05],\n",
       "       [2.30000e+03, 4.00000e+00, 4.49900e+05],\n",
       "       [1.32000e+03, 2.00000e+00, 2.99900e+05],\n",
       "       [1.23600e+03, 3.00000e+00, 1.99900e+05],\n",
       "       [2.60900e+03, 4.00000e+00, 4.99998e+05],\n",
       "       [3.03100e+03, 4.00000e+00, 5.99000e+05],\n",
       "       [1.76700e+03, 3.00000e+00, 2.52900e+05],\n",
       "       [1.88800e+03, 2.00000e+00, 2.55000e+05],\n",
       "       [1.60400e+03, 3.00000e+00, 2.42900e+05],\n",
       "       [1.96200e+03, 4.00000e+00, 2.59900e+05],\n",
       "       [3.89000e+03, 3.00000e+00, 5.73900e+05],\n",
       "       [1.10000e+03, 3.00000e+00, 2.49900e+05],\n",
       "       [1.45800e+03, 3.00000e+00, 4.64500e+05],\n",
       "       [2.52600e+03, 3.00000e+00, 4.69000e+05],\n",
       "       [2.20000e+03, 3.00000e+00, 4.75000e+05],\n",
       "       [2.63700e+03, 3.00000e+00, 2.99900e+05],\n",
       "       [1.83900e+03, 2.00000e+00, 3.49900e+05],\n",
       "       [1.00000e+03, 1.00000e+00, 1.69900e+05],\n",
       "       [2.04000e+03, 4.00000e+00, 3.14900e+05],\n",
       "       [3.13700e+03, 3.00000e+00, 5.79900e+05],\n",
       "       [1.81100e+03, 4.00000e+00, 2.85900e+05],\n",
       "       [1.43700e+03, 3.00000e+00, 2.49900e+05],\n",
       "       [1.23900e+03, 3.00000e+00, 2.29900e+05],\n",
       "       [2.13200e+03, 4.00000e+00, 3.45000e+05],\n",
       "       [4.21500e+03, 4.00000e+00, 5.49000e+05],\n",
       "       [2.16200e+03, 4.00000e+00, 2.87000e+05],\n",
       "       [1.66400e+03, 2.00000e+00, 3.68500e+05],\n",
       "       [2.23800e+03, 3.00000e+00, 3.29900e+05],\n",
       "       [2.56700e+03, 4.00000e+00, 3.14000e+05],\n",
       "       [1.20000e+03, 3.00000e+00, 2.99000e+05],\n",
       "       [8.52000e+02, 2.00000e+00, 1.79900e+05],\n",
       "       [1.85200e+03, 4.00000e+00, 2.99900e+05],\n",
       "       [1.20300e+03, 3.00000e+00, 2.39500e+05]])"
      ]
     },
     "execution_count": 4,
     "metadata": {},
     "output_type": "execute_result"
    }
   ],
   "source": [
    "data "
   ]
  },
  {
   "cell_type": "code",
   "execution_count": null,
   "id": "d3ff25d3-23e2-495b-80d1-c0e7653a5607",
   "metadata": {},
   "outputs": [],
   "source": []
  }
 ],
 "metadata": {
  "kernelspec": {
   "display_name": "Python 3 (ipykernel)",
   "language": "python",
   "name": "python3"
  },
  "language_info": {
   "codemirror_mode": {
    "name": "ipython",
    "version": 3
   },
   "file_extension": ".py",
   "mimetype": "text/x-python",
   "name": "python",
   "nbconvert_exporter": "python",
   "pygments_lexer": "ipython3",
   "version": "3.12.7"
  }
 },
 "nbformat": 4,
 "nbformat_minor": 5
}
